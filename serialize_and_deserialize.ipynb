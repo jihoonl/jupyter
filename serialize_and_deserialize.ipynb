{
 "cells": [
  {
   "cell_type": "code",
   "execution_count": 1,
   "id": "84293c12",
   "metadata": {},
   "outputs": [],
   "source": [
    "from rclpy.serialization import serialize_message, deserialize_message\n",
    "from geometry_msgs.msg import PoseStamped"
   ]
  },
  {
   "cell_type": "code",
   "execution_count": 8,
   "id": "3f7d4630",
   "metadata": {},
   "outputs": [],
   "source": [
    "# Load class from string\n",
    "# https://stackoverflow.com/questions/1176136/convert-string-to-python-class-object\n",
    "import importlib\n",
    "\n",
    "def class_from_string(module_name, class_name):\n",
    "    # load the module, will raise ImportError if module cannot be loaded\n",
    "    m = importlib.import_module(module_name)\n",
    "    # get the class, will raise AttributeError if class cannot be found\n",
    "    c = getattr(m, class_name)\n",
    "    return c\n",
    "\n",
    "def class_string_from_msg(msg):\n",
    "    \"\"\"\n",
    "    주어진 msg의 class를 module과 name으로 나눠서 tuple of str로 반환합니다.\n",
    "    예시)\n",
    "    > p = geometry_msgs.msg.Pose\n",
    "    > type(p)\n",
    "    geometry_msgs.msg._pose.Pose\n",
    "    > msg_type = class_string_from(msg)\n",
    "    > msg_type\n",
    "    ('geometry_msgs.msg._pose', 'Pose')\n",
    "\n",
    "    \n",
    "    :return: (str, str)\n",
    "    \"\"\"\n",
    "    module = type(msg).__module__\n",
    "    name = type(msg).__name__\n",
    "    return (module, name)\n",
    "\n",
    "\n",
    "# 예시를 위한 클래스\n",
    "class DummyMessage:\n",
    "    def __init__(self, msg, topic_name, timestamp=None):\n",
    "        # timestamp가 주어지면 timestamp를 쓰고 아니라면 msg 자체의 stamp를 사용\n",
    "        self.timestamp = timestamp if timestamp else msg.header.stamp\n",
    "        # msg class를 (module, name)로 나눠줍니다.\n",
    "        self.msg_type = class_string_from_msg(msg)\n",
    "        # msg topic name.\n",
    "        self.topic_name = topic_name\n",
    "        # serialize as a byte\n",
    "        self.data = serialize_message(msg)\n",
    "        \n",
    "    def deserialize(self):\n",
    "        # msg_type을 class module로 다시 변환\n",
    "        class_module = class_from_string(*self.msg_type)\n",
    "        # deserialize\n",
    "        msg = deserialize_message(self.data, class_module)\n",
    "        return msg"
   ]
  },
  {
   "cell_type": "code",
   "execution_count": 9,
   "id": "ba6443fd",
   "metadata": {},
   "outputs": [
    {
     "data": {
      "text/plain": [
       "geometry_msgs.msg.PoseStamped(header=std_msgs.msg.Header(stamp=builtin_interfaces.msg.Time(sec=0, nanosec=0), frame_id='map'), pose=geometry_msgs.msg.Pose(position=geometry_msgs.msg.Point(x=0.0, y=0.0, z=0.0), orientation=geometry_msgs.msg.Quaternion(x=0.0, y=0.0, z=0.0, w=1.0)))"
      ]
     },
     "execution_count": 9,
     "metadata": {},
     "output_type": "execute_result"
    }
   ],
   "source": [
    "topic_name = 'robot_pose'\n",
    "# Serialize a msg\n",
    "msg = PoseStamped()\n",
    "msg.header.frame_id = 'map'\n",
    "msg"
   ]
  },
  {
   "cell_type": "code",
   "execution_count": 10,
   "id": "d20e46cd",
   "metadata": {
    "scrolled": true
   },
   "outputs": [],
   "source": [
    "msg_in_database = DummyMessage(msg, topic_name)"
   ]
  },
  {
   "cell_type": "code",
   "execution_count": 11,
   "id": "e1036dae",
   "metadata": {},
   "outputs": [
    {
     "data": {
      "text/plain": [
       "builtin_interfaces.msg.Time(sec=0, nanosec=0)"
      ]
     },
     "execution_count": 11,
     "metadata": {},
     "output_type": "execute_result"
    }
   ],
   "source": [
    "msg_in_database.timestamp"
   ]
  },
  {
   "cell_type": "code",
   "execution_count": 12,
   "id": "73347659",
   "metadata": {},
   "outputs": [
    {
     "data": {
      "text/plain": [
       "('geometry_msgs.msg._pose_stamped', 'PoseStamped')"
      ]
     },
     "execution_count": 12,
     "metadata": {},
     "output_type": "execute_result"
    }
   ],
   "source": [
    "msg_in_database.msg_type"
   ]
  },
  {
   "cell_type": "code",
   "execution_count": 13,
   "id": "7ef844f5",
   "metadata": {},
   "outputs": [
    {
     "data": {
      "text/plain": [
       "b'\\x00\\x01\\x00\\x00\\x00\\x00\\x00\\x00\\x00\\x00\\x00\\x00\\x04\\x00\\x00\\x00map\\x00\\x00\\x00\\x00\\x00\\x00\\x00\\x00\\x00\\x00\\x00\\x00\\x00\\x00\\x00\\x00\\x00\\x00\\x00\\x00\\x00\\x00\\x00\\x00\\x00\\x00\\x00\\x00\\x00\\x00\\x00\\x00\\x00\\x00\\x00\\x00\\x00\\x00\\x00\\x00\\x00\\x00\\x00\\x00\\x00\\x00\\x00\\x00\\x00\\x00\\x00\\x00\\x00\\x00\\x00\\xf0?'"
      ]
     },
     "execution_count": 13,
     "metadata": {},
     "output_type": "execute_result"
    }
   ],
   "source": [
    "msg_in_database.data"
   ]
  },
  {
   "cell_type": "code",
   "execution_count": 14,
   "id": "3ac4f707",
   "metadata": {},
   "outputs": [],
   "source": [
    "restored_msg = msg_in_database.deserialize()"
   ]
  },
  {
   "cell_type": "code",
   "execution_count": 15,
   "id": "5db73e5a",
   "metadata": {},
   "outputs": [
    {
     "data": {
      "text/plain": [
       "geometry_msgs.msg.PoseStamped(header=std_msgs.msg.Header(stamp=builtin_interfaces.msg.Time(sec=0, nanosec=0), frame_id='map'), pose=geometry_msgs.msg.Pose(position=geometry_msgs.msg.Point(x=0.0, y=0.0, z=0.0), orientation=geometry_msgs.msg.Quaternion(x=0.0, y=0.0, z=0.0, w=1.0)))"
      ]
     },
     "execution_count": 15,
     "metadata": {},
     "output_type": "execute_result"
    }
   ],
   "source": [
    "restored_msg"
   ]
  }
 ],
 "metadata": {
  "kernelspec": {
   "display_name": "Python 3 (ipykernel)",
   "language": "python",
   "name": "python3"
  },
  "language_info": {
   "codemirror_mode": {
    "name": "ipython",
    "version": 3
   },
   "file_extension": ".py",
   "mimetype": "text/x-python",
   "name": "python",
   "nbconvert_exporter": "python",
   "pygments_lexer": "ipython3",
   "version": "3.10.4"
  }
 },
 "nbformat": 4,
 "nbformat_minor": 5
}
